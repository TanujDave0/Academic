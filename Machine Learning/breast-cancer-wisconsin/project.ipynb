{
 "cells": [
  {
   "cell_type": "code",
   "execution_count": 13,
   "metadata": {
    "scrolled": true
   },
   "outputs": [
    {
     "name": "stdout",
     "output_type": "stream",
     "text": [
      "dataframe1 has the shape (569, 31)\n",
      "dataframe2 has the shape (699, 10)\n",
      "\n",
      "dataframe1 has 212  malignant entries and 357  benign entries\n",
      "dataframe2 has 241  malignant entries and 458  benign entries\n",
      "\n",
      "The training 1 set contains 455 examples.\n",
      "The testing 1 set contains 114 examples.\n",
      "\n"
     ]
    }
   ],
   "source": [
    "import numpy as np\n",
    "import pandas as pd\n",
    "import matplotlib.pyplot as plt\n",
    "from sklearn.model_selection import train_test_split\n",
    "from sklearn.preprocessing import StandardScaler\n",
    "from sklearn.metrics import accuracy_score\n",
    "from sklearn.metrics import roc_curve, roc_auc_score\n",
    "\n",
    "file_name1 = \"breast-cancer-wisconsin.data\"\n",
    "file_name2 = \"breast-cancer-wisconsin-original.data\"\n",
    "\n",
    "# loading the 2 datasets\n",
    "df1 = pd.read_csv(file_name1, names = [0]+['y']+list(range(2,32)))\n",
    "df2 = pd.read_csv(file_name2,  names = list(range(0,10))+['y'] )\n",
    "\n",
    "\n",
    "# # lets remove the first fields of id in both\n",
    "df1 = df1[list(range(2,32))+['y']]\n",
    "df2 = df2[list(range(1, 10))+['y']]\n",
    "\n",
    "# # lets map Malignant and Benign to 0 and 1\n",
    "df1['y'] = df1.y.map({'M':0, 'B':1})\n",
    "\n",
    "# # similarly for df2\n",
    "df2['y'] = df2.y.map({4:0, 2:1})\n",
    "\n",
    "\n",
    "# the number of entries in both\n",
    "print(\"dataframe1 has the shape\", df1.shape)\n",
    "print(\"dataframe2 has the shape\", df2.shape)\n",
    "print()\n",
    "\n",
    "# check the number of 0 and 1 entries\n",
    "print(\"dataframe1 has\", list(df1['y']).count(0), \" malignant entries and\", list(df1['y']).count(1), \" benign entries\")\n",
    "print(\"dataframe2 has\", list(df2['y']).count(0), \" malignant entries and\", list(df2['y']).count(1), \" benign entries\")\n",
    "print()\n",
    "\n",
    "# looping over to see the difference between the max and min for each attribute of concern (2 to 32)\n",
    "# for i in range(2, df1.shape[0]):\n",
    "#     print(max(df1[i]) - min(df1[i]))\n",
    "\n",
    "\n",
    "# # lets do an 80-20 split for train and test in both df\n",
    "X_train1, X_test1, y_train1, y_test1 = train_test_split(df1[list(range(2,32))], df1['y'], train_size=0.8, random_state=1)\n",
    "print(f'The training 1 set contains {X_train1.shape[0]} examples.')\n",
    "print(f'The testing 1 set contains {X_test1.shape[0]} examples.')\n",
    "print()\n",
    "\n",
    "# huge differences, so lets smooth it out\n",
    "sc = StandardScaler()\n",
    "sc.fit(X_train1)\n",
    "X_train1 = sc.transform(X_train1)\n",
    "X_test1 = sc.transform(X_test1)\n",
    "\n",
    "df1.reset_index()\n",
    "df2.reset_index()\n",
    "\n",
    "df2_org = df2.copy(deep = True)\n",
    "df1_org = df1.copy(deep = True)\n"
   ]
  },
  {
   "cell_type": "markdown",
   "metadata": {},
   "source": [
    "Trying Gaussian Naive Bayes"
   ]
  },
  {
   "cell_type": "code",
   "execution_count": 14,
   "metadata": {},
   "outputs": [
    {
     "name": "stdout",
     "output_type": "stream",
     "text": [
      "Number of mislabeled points out of a total 114 points : 6\n",
      "\n",
      "accuracy of GNB is 94.73684210526315 %\n"
     ]
    },
    {
     "data": {
      "image/png": "[encoded data removed]",
      "text/plain": [
       "<Figure size 432x288 with 1 Axes>"
      ]
     },
     "metadata": {
      "needs_background": "light"
     },
     "output_type": "display_data"
    },
    {
     "name": "stdout",
     "output_type": "stream",
     "text": [
      "0.9788359788359788\n"
     ]
    }
   ],
   "source": [
    "from sklearn.naive_bayes import GaussianNB\n",
    "\n",
    "gnb = GaussianNB()\n",
    "\n",
    "mod = gnb.fit(X_train1, y_train1)\n",
    "\n",
    "y_pred = mod.predict(X_test1)\n",
    "\n",
    "y_score = mod.predict_proba(X_test1)\n",
    "\n",
    "print(\"Number of mislabeled points out of a total %d points : %d\" % (X_test1.shape[0], (y_test1 != y_pred).sum()))\n",
    "print()\n",
    "\n",
    "print(\"accuracy of GNB is\", accuracy_score(y_test1, y_pred)*100, \"%\")\n",
    "\n",
    "def plot_roc_curve(fpr, tpr):\n",
    "  plt.plot(fpr, tpr, color='blue', label='ROC')\n",
    "  plt.plot([0, 1], [0, 1], color='black', linestyle='--')\n",
    "  plt.xlabel('FPR')\n",
    "  plt.ylabel('TPR')\n",
    "  plt.title('ROC Curve')\n",
    "  plt.legend()\n",
    "  plt.show()\n",
    "\n",
    "pred = []\n",
    "for e in y_score:\n",
    "    pred.append(e[1])\n",
    "\n",
    "fpr, tpr, t = roc_curve(y_test1, pred)\n",
    "\n",
    "plot_roc_curve(fpr, tpr)\n",
    "\n",
    "print(roc_auc_score(y_test1,pred))"
   ]
  },
  {
   "cell_type": "markdown",
   "metadata": {},
   "source": [
    "Training dataset2"
   ]
  },
  {
   "cell_type": "markdown",
   "metadata": {},
   "source": [
    "median approach"
   ]
  },
  {
   "cell_type": "code",
   "execution_count": 55,
   "metadata": {},
   "outputs": [
    {
     "name": "stdout",
     "output_type": "stream",
     "text": [
      "missing/lost 0 entries in column 6 at indexes:\n",
      " []\n",
      "\n",
      "found median to be: 1\n",
      "lets recheck\n",
      "The training 2 set contains 559 examples.\n",
      "The testing 2 set contains 140 examples.\n"
     ]
    },
    {
     "data": {
      "text/html": [
       "<div>\n",
       "<style scoped>\n",
       "    .dataframe tbody tr th:only-of-type {\n",
       "        vertical-align: middle;\n",
       "    }\n",
       "\n",
       "    .dataframe tbody tr th {\n",
       "        vertical-align: top;\n",
       "    }\n",
       "\n",
       "    .dataframe thead th {\n",
       "        text-align: right;\n",
       "    }\n",
       "</style>\n",
       "<table border=\"1\" class=\"dataframe\">\n",
       "  <thead>\n",
       "    <tr style=\"text-align: right;\">\n",
       "      <th></th>\n",
       "      <th>1</th>\n",
       "      <th>2</th>\n",
       "      <th>3</th>\n",
       "      <th>4</th>\n",
       "      <th>5</th>\n",
       "      <th>6</th>\n",
       "      <th>7</th>\n",
       "      <th>8</th>\n",
       "      <th>9</th>\n",
       "      <th>y</th>\n",
       "    </tr>\n",
       "  </thead>\n",
       "  <tbody>\n",
       "    <tr>\n",
       "      <th>0</th>\n",
       "      <td>5</td>\n",
       "      <td>1</td>\n",
       "      <td>1</td>\n",
       "      <td>1</td>\n",
       "      <td>2</td>\n",
       "      <td>1</td>\n",
       "      <td>3</td>\n",
       "      <td>1</td>\n",
       "      <td>1</td>\n",
       "      <td>1</td>\n",
       "    </tr>\n",
       "    <tr>\n",
       "      <th>1</th>\n",
       "      <td>5</td>\n",
       "      <td>4</td>\n",
       "      <td>4</td>\n",
       "      <td>5</td>\n",
       "      <td>7</td>\n",
       "      <td>10</td>\n",
       "      <td>3</td>\n",
       "      <td>2</td>\n",
       "      <td>1</td>\n",
       "      <td>1</td>\n",
       "    </tr>\n",
       "    <tr>\n",
       "      <th>2</th>\n",
       "      <td>3</td>\n",
       "      <td>1</td>\n",
       "      <td>1</td>\n",
       "      <td>1</td>\n",
       "      <td>2</td>\n",
       "      <td>2</td>\n",
       "      <td>3</td>\n",
       "      <td>1</td>\n",
       "      <td>1</td>\n",
       "      <td>1</td>\n",
       "    </tr>\n",
       "    <tr>\n",
       "      <th>3</th>\n",
       "      <td>6</td>\n",
       "      <td>8</td>\n",
       "      <td>8</td>\n",
       "      <td>1</td>\n",
       "      <td>3</td>\n",
       "      <td>4</td>\n",
       "      <td>3</td>\n",
       "      <td>7</td>\n",
       "      <td>1</td>\n",
       "      <td>1</td>\n",
       "    </tr>\n",
       "    <tr>\n",
       "      <th>4</th>\n",
       "      <td>4</td>\n",
       "      <td>1</td>\n",
       "      <td>1</td>\n",
       "      <td>3</td>\n",
       "      <td>2</td>\n",
       "      <td>1</td>\n",
       "      <td>3</td>\n",
       "      <td>1</td>\n",
       "      <td>1</td>\n",
       "      <td>1</td>\n",
       "    </tr>\n",
       "  </tbody>\n",
       "</table>\n",
       "</div>"
      ],
      "text/plain": [
       "   1  2  3  4  5   6  7  8  9  y\n",
       "0  5  1  1  1  2   1  3  1  1  1\n",
       "1  5  4  4  5  7  10  3  2  1  1\n",
       "2  3  1  1  1  2   2  3  1  1  1\n",
       "3  6  8  8  1  3   4  3  7  1  1\n",
       "4  4  1  1  3  2   1  3  1  1  1"
      ]
     },
     "execution_count": 55,
     "metadata": {},
     "output_type": "execute_result"
    }
   ],
   "source": [
    "import statistics\n",
    "\n",
    "ints = []\n",
    "index = 0\n",
    "indexes = []\n",
    "\n",
    "# for e in df2[6]:\n",
    "#     print(e, type(e))\n",
    "\n",
    "for e in df2[6]:\n",
    "    if type(e) == int:\n",
    "        ints.append(e)\n",
    "    if type(e) == str:\n",
    "        if e.isnumeric():\n",
    "            df2.at[index, 6] = int(e)\n",
    "            ints.append(int(e))\n",
    "        else:\n",
    "            indexes.append(index)\n",
    "\n",
    "    index+=1\n",
    "print(\"missing/lost\", df2[2].size - len(ints), \"entries in column 6 at indexes:\\n\", indexes)\n",
    "print()\n",
    "median = statistics.median(ints)\n",
    "print(\"found median to be:\", median)\n",
    "\n",
    "\n",
    "#replacing\n",
    "for e in indexes:\n",
    "    df2.at[e, 6] = median\n",
    "\n",
    "# if it prints then we missed something\n",
    "print(\"lets recheck\")\n",
    "for e in df2[6]:\n",
    "    if(type(e) != int):\n",
    "        print(e)\n",
    "\n",
    "X_train2, X_test2, y_train2, y_test2 = train_test_split(df2[list(range(1,10))], df2['y'], train_size=0.8, random_state=1)\n",
    "print(f'The training 2 set contains {X_train2.shape[0]} examples.')\n",
    "print(f'The testing 2 set contains {X_test2.shape[0]} examples.')\n",
    "\n",
    "s2 = StandardScaler()\n",
    "s2.fit(X_train2)\n",
    "X_train2 = s2.transform(X_train2)\n",
    "X_test2 = s2.transform(X_test2)\n",
    "\n",
    "df2.head()"
   ]
  },
  {
   "cell_type": "code",
   "execution_count": 56,
   "metadata": {},
   "outputs": [
    {
     "name": "stdout",
     "output_type": "stream",
     "text": [
      "Number of mislabeled points out of a total 140 points : 5\n",
      "\n",
      "accuracy of GNB is 96.42857142857143 %\n"
     ]
    },
    {
     "data": {
      "image/png": "[encoded data removed]",
      "text/plain": [
       "<Figure size 432x288 with 1 Axes>"
      ]
     },
     "metadata": {
      "needs_background": "light"
     },
     "output_type": "display_data"
    },
    {
     "name": "stdout",
     "output_type": "stream",
     "text": [
      "0.9852807971014492\n"
     ]
    }
   ],
   "source": [
    "from sklearn.naive_bayes import GaussianNB\n",
    "\n",
    "gnb2 = GaussianNB()\n",
    "\n",
    "mod2 = gnb2.fit(X_train2, y_train2)\n",
    "\n",
    "y_pred2 = mod2.predict(X_test2)\n",
    "\n",
    "y_score2 = mod2.predict_proba(X_test2)\n",
    "\n",
    "print(\"Number of mislabeled points out of a total %d points : %d\" % (X_test2.shape[0], (y_test2 != y_pred2).sum()))\n",
    "print()\n",
    "\n",
    "print(\"accuracy of GNB is\", accuracy_score(y_test2, y_pred2)*100, \"%\")\n",
    "\n",
    "def plot_roc_curve(fpr, tpr):\n",
    "  plt.plot(fpr, tpr, color='blue', label='ROC')\n",
    "  plt.plot([0, 1], [0, 1], color='black', linestyle='--')\n",
    "  plt.xlabel('FPR')\n",
    "  plt.ylabel('TPR')\n",
    "  plt.title('ROC Curve')\n",
    "  plt.legend()\n",
    "  plt.show()\n",
    "\n",
    "pred2 = []\n",
    "for e in y_score2:\n",
    "    pred2.append(e[1])\n",
    "\n",
    "fpr2, tpr2, t2 = roc_curve(y_test2, pred2)\n",
    "\n",
    "plot_roc_curve(fpr2, tpr2)\n",
    "\n",
    "print(roc_auc_score(y_test2,pred2))"
   ]
  },
  {
   "cell_type": "markdown",
   "metadata": {},
   "source": [
    "lets remove entries and re-do it"
   ]
  },
  {
   "cell_type": "code",
   "execution_count": 61,
   "metadata": {},
   "outputs": [
    {
     "name": "stdout",
     "output_type": "stream",
     "text": [
      "indexes: [23, 40, 139, 145, 158, 164, 235, 249, 275, 292, 294, 297, 315, 321, 411, 617]\n",
      "dropped: 16 rows\n",
      "The training 2 set contains 546 examples.\n",
      "The testing 2 set contains 137 examples.\n"
     ]
    }
   ],
   "source": [
    "df3 = df2_org.copy(deep = True)\n",
    "\n",
    "index = 0\n",
    "indexes = []\n",
    "\n",
    "for e in df3[6]:\n",
    "    if type(e) == str:\n",
    "        if e.isnumeric():\n",
    "            df3.at[index, 6] = int(e)\n",
    "        else:\n",
    "            indexes.append(index)\n",
    "    index+=1\n",
    "\n",
    "print(\"indexes:\", indexes)\n",
    "\n",
    "for e in reversed(indexes):\n",
    "    df3 = df3.drop(df3.index[e])\n",
    "\n",
    "print(\"dropped:\", 699-df3.shape[0], \"rows\")\n",
    "\n",
    "X_train3, X_test3, y_train3, y_test3 = train_test_split(df3[list(range(1,10))], df3['y'], train_size=0.8, random_state=1)\n",
    "print(f'The training 2 set contains {X_train3.shape[0]} examples.')\n",
    "print(f'The testing 2 set contains {X_test3.shape[0]} examples.')\n",
    "\n",
    "s3 = StandardScaler()\n",
    "s3.fit(X_train3)\n",
    "X_train3 = s3.transform(X_train3)\n",
    "X_test3 = s3.transform(X_test3)"
   ]
  },
  {
   "cell_type": "code",
   "execution_count": 62,
   "metadata": {},
   "outputs": [
    {
     "name": "stdout",
     "output_type": "stream",
     "text": [
      "Number of mislabeled points out of a total 137 points : 0\n",
      "\n",
      "accuracy of GNB is 100.0 %\n"
     ]
    },
    {
     "data": {
      "image/png": "[encoded data removed]",
      "text/plain": [
       "<Figure size 432x288 with 1 Axes>"
      ]
     },
     "metadata": {
      "needs_background": "light"
     },
     "output_type": "display_data"
    },
    {
     "name": "stdout",
     "output_type": "stream",
     "text": [
      "1.0\n"
     ]
    }
   ],
   "source": [
    "from sklearn.naive_bayes import GaussianNB\n",
    "\n",
    "gnb3 = GaussianNB()\n",
    "\n",
    "mod3 = gnb3.fit(X_train3, y_train3)\n",
    "\n",
    "y_pred3 = mod3.predict(X_test3)\n",
    "\n",
    "print(\"Number of mislabeled points out of a total %d points : %d\" % (X_test3.shape[0], (y_test3 != y_pred3).sum()))\n",
    "print()\n",
    "\n",
    "print(\"accuracy of GNB is\", accuracy_score(y_test3, y_pred3)*100, \"%\")\n",
    "\n",
    "y_score3 = mod3.predict_proba(X_test3)\n",
    "\n",
    "def plot_roc_curve(fpr, tpr):\n",
    "  plt.plot(fpr, tpr, color='blue', label='ROC')\n",
    "  plt.plot([0, 1], [0, 1], color='black', linestyle='--')\n",
    "  plt.xlabel('FPR')\n",
    "  plt.ylabel('TPR')\n",
    "  plt.title('ROC Curve')\n",
    "  plt.legend()\n",
    "  plt.show()\n",
    "\n",
    "pred3 = []\n",
    "for e in y_score3:\n",
    "    pred3.append(e[1])\n",
    "\n",
    "fpr3, tpr3, t3 = roc_curve(y_test3, pred3)\n",
    "\n",
    "plot_roc_curve(fpr3, tpr3)\n",
    "\n",
    "print(roc_auc_score(y_test3,pred3))"
   ]
  }
 ],
 "metadata": {
  "kernelspec": {
   "display_name": "Python 3",
   "language": "python",
   "name": "python3"
  },
  "language_info": {
   "codemirror_mode": {
    "name": "ipython",
    "version": 3
   },
   "file_extension": ".py",
   "mimetype": "text/x-python",
   "name": "python",
   "nbconvert_exporter": "python",
   "pygments_lexer": "ipython3",
   "version": "3.7.6"
  }
 },
 "nbformat": 4,
 "nbformat_minor": 4
}
