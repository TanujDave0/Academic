{
 "cells": [
  {
   "cell_type": "markdown",
   "metadata": {},
   "source": [
    "# Gaussian Mixture Models with EM"
   ]
  },
  {
   "cell_type": "markdown",
   "metadata": {},
   "source": [
    "1. Fill in the code to implement log_sum_exp and loglikelihood function, that outputs the log likelihood of given data X.\n",
    "2. Fill in the code to implement EM algorithm, following the instructions to fill in the code of E-step and M-step.\n",
    "3. We will now try different number of iterations. Fill in the code for running EM algorithm and plotting. \n",
    "4. Report how many iterations that EM algorithm to completion(convergence)? And observe how does loglikelihood change over iterations by plotting the loglikelihood.\n",
    "\n",
    "Hint: you can use library(from sklearn.mixture import GaussianMixture) to confirm your algorithm implementation. "
   ]
  },
  {
   "cell_type": "code",
   "execution_count": 7,
   "metadata": {},
   "outputs": [],
   "source": [
    "# Let us first import some modules for this problem\n",
    "import numpy as np\n",
    "import matplotlib.pyplot as plt \n",
    "import copy\n",
    "from scipy.stats import multivariate_normal\n",
    "\n",
    "%matplotlib inline"
   ]
  },
  {
   "cell_type": "markdown",
   "metadata": {},
   "source": [
    "## 1. Create synthetic data\n",
    "We have gone through all the theoretical concepts of the guassian mixture models. Here, we will generate synthetic data from a mixture of three Gaussians, and then we visualize generated data.\n"
   ]
  },
  {
   "cell_type": "code",
   "execution_count": 3,
   "metadata": {},
   "outputs": [],
   "source": [
    "def generate_data(num_data, means, covariances, weights):\n",
    "    \"\"\" Creates a list of data points \"\"\"\n",
    "    num_clusters = len(weights)\n",
    "    data = []\n",
    "    for i in range(num_data):\n",
    "        #  Use np.random.choice and weights to pick a cluster id greater than or equal to 0 and less than num_clusters.\n",
    "        k = np.random.choice(len(weights), 1, p=weights)[0]\n",
    "\n",
    "        # Use np.random.multivariate_normal to create data from this cluster\n",
    "        x = np.random.multivariate_normal(means[k], covariances[k])\n",
    "\n",
    "        data.append(x)\n",
    "    return data"
   ]
  },
  {
   "cell_type": "code",
   "execution_count": 4,
   "metadata": {},
   "outputs": [],
   "source": [
    "# Initialize parameters for creating synthetic data\n",
    "init_means = [\n",
    "    [5, 0], # mean of cluster 1\n",
    "    [1, 1], # mean of cluster 2\n",
    "    [0, 5]  # mean of cluster 3\n",
    "]\n",
    "init_covariances = [\n",
    "    [[.5, 0.], [0, .5]], # covariance of cluster 1\n",
    "    [[.92, .38], [.38, .91]], # covariance of cluster 2\n",
    "    [[.5, 0.], [0, .5]]  # covariance of cluster 3\n",
    "]\n",
    "init_weights = [1/4., 1/2., 1/4.]  # weights of each cluster\n",
    "\n",
    "# Generate data\n",
    "np.random.seed(4)\n",
    "X = generate_data(100, init_means, init_covariances, init_weights)"
   ]
  },
  {
   "cell_type": "code",
   "execution_count": 6,
   "metadata": {},
   "outputs": [
    {
     "data": {
      "image/png": "[encoded data removed]",
      "text/plain": [
       "<Figure size 432x288 with 1 Axes>"
      ]
     },
     "metadata": {
      "needs_background": "light"
     },
     "output_type": "display_data"
    }
   ],
   "source": [
    "## plt.figure()\n",
    "d = np.vstack(X)\n",
    "plt.plot(d[:,0], d[:,1],'ko')\n",
    "plt.rcParams.update({'font.size':16})\n",
    "plt.tight_layout()"
   ]
  },
  {
   "cell_type": "markdown",
   "metadata": {},
   "source": [
    "## 2. E-M algorithm\n",
    "To solve the problem of which datapoints came from which guassian, we implement EM algorithm here. The way it works is that it will start by placing guassians randomly, which means that generates random mean and variance for the guassian. Then it will iterate over these two steps until it converges.\n",
    "\n",
    "### 2.1 E step: \n",
    "With the current means and variances, we calculate the probability of each data point $x_i$ coming from each guassian.\n",
    "\n",
    "### 2.2 M step:\n",
    "After getting the probability, we re-estimate the guassians' new mean and variance.\n",
    "\n",
    "Hint: you can use multivariate_normal.pdf to compute the the likelihood of seeing a data point in a multivariate Gaussian distribution and np.outer to estimate the covariance matrix from data."
   ]
  },
  {
   "cell_type": "code",
   "execution_count": 29,
   "metadata": {},
   "outputs": [],
   "source": [
    "def EM(data, init_means, init_covariances, init_weights, n_iter=100, thresh=1e-4):\n",
    "    \"\"\" EM algorithm implementation. \n",
    "    Input:\n",
    "    -data: a array of datapoints\n",
    "    -init_weights: a array of weights for k clusters\n",
    "    -init_means: a array of means for k clusters\n",
    "    -init_covariances:a array of covariances for k clusters\n",
    "    -n_iter: number of iterations\n",
    "    -thresh: threshold value to stop performing the EM optimization\n",
    "    Output:\n",
    "    -out: a dictonary with five elements:\n",
    "        1. 'loglik': a record of the log likelihood at each iteration\n",
    "        2. 'resp': the final responsibility matrix\n",
    "        3. 'means': a list of K means\n",
    "        4. 'covs': a list of K covariance matrices\n",
    "        5. 'weights': the weights corresponding to each model component\n",
    "    \"\"\"\n",
    "    \n",
    "    # Make copies of initial parameters, which we will update during each iteration\n",
    "    means = init_means[:]\n",
    "    covariances = init_covariances[:]\n",
    "    weights = init_weights[:]\n",
    "    \n",
    "    # Infer dimensions of dataset and the number of clusters\n",
    "    num_data = len(data)\n",
    "    num_dim = len(data[0])\n",
    "    num_clusters = len(means)\n",
    "    \n",
    "    # Initialize some useful variables\n",
    "    resp = np.zeros((num_data, num_clusters))\n",
    "    loglike = loglikelihood(data, weights, means, covariances)\n",
    "    loglike_trace = [loglike]\n",
    "    loglike_new = 0\n",
    "    \n",
    "    for i in range(n_iter):\n",
    "        \n",
    "        # E-step: compute responsibilities\n",
    "        # Update resp matrix so that resp[j, k] is the responsibility of cluster k for data point j.\n",
    "        # Hint: To compute likelihood of seeing data point j given cluster k, use multivariate_normal.pdf.\n",
    "        for j in range(num_data):\n",
    "            for k in range(num_clusters):\n",
    "#                 print('Insert code here')\n",
    "                \n",
    "        # *****START OF YOUR CODE (DO NOT DELETE/MODIFY THIS LINE)*****\n",
    "                resp[j,k] = multivariate_normal.pdf(data[j], means[k], covariances[k])\n",
    "        \n",
    "        # *****END OF YOUR CODE (DO NOT DELETE/MODIFY THIS LINE)*****\n",
    "        \n",
    "        # M-step\n",
    "        # Compute the total responsibility assigned to each cluster, which will be useful when \n",
    "        # implementing M-steps below. \n",
    "        \n",
    "        counts = np.sum(resp, axis=0)\n",
    "        \n",
    "        for k in range(num_clusters):\n",
    "#             dd=0\n",
    "        \n",
    "            # Update the weight for cluster k using the M-step update rule for the cluster weight, \\hat{\\pi}_k.\n",
    "            # *****START OF YOUR CODE (DO NOT DELETE/MODIFY THIS LINE)*****\n",
    "#             print('Insert code here')\n",
    "            \n",
    "            \n",
    "            # *****END OF YOUR CODE (DO NOT DELETE/MODIFY THIS LINE)*****\n",
    "            \n",
    "            # Update covariances for cluster k using the M-step update rule for covariance variables.\n",
    "            # This will assign the variable covariances[k] to be the estimate for \\hat{\\Sigma}_k.\n",
    "            # Hint: Use np.outer on the data[j] and this cluster's mean\n",
    "            # *****START OF YOUR CODE (DO NOT DELETE/MODIFY THIS LINE)*****\n",
    "            covariances[k] = np.outer(data,means[k])\n",
    "\n",
    "            \n",
    "            # *****END OF YOUR CODE (DO NOT DELETE/MODIFY THIS LINE)*****       \n",
    "        \n",
    "        # Check for convergence in log-likelihood and store\n",
    "        if (loglike_new - loglike) < thresh and loglike_new > -np.inf:\n",
    "            break\n",
    "        loglike = loglike_new\n",
    "    \n",
    "    out = {'weights': weights, 'means': means, 'covs': covariances, 'loglik': loglike_trace, 'resp': resp}\n",
    "\n",
    "    return out"
   ]
  },
  {
   "cell_type": "markdown",
   "metadata": {},
   "source": [
    "### Helper functions to calculate Log Likelihood:\n",
    "\n",
    "The EM algorithm attempts to find maximum likelihood estimates for models with latent variables.\n",
    "\n",
    "Let Y be the entire set of observed variables and $Z$ the entire set of latent variables. The log-likelihood is therefore:\n",
    "\n",
    "\\begin{equation}\n",
    "\\log (P(Y|\\Theta)) \\ = \\ \\log(\\sum_Z P(Y,Z|\\Theta))\n",
    "\\end{equation}\n",
    "where we’ve simply marginalized $Z$ out of the joint distribution.\n",
    "\n",
    "To compute the mixture of Gaussians, we introduce a set of cluster weights,  $\\pi_k$ , one for each cluster $k$ . Where  $\\sum_{i=1} ^K \\pi _k = 1$  and  $\\pi_k≥0 ∀k$ \n"
   ]
  },
  {
   "cell_type": "code",
   "execution_count": 8,
   "metadata": {},
   "outputs": [],
   "source": [
    "def log_sum_exp(pik):\n",
    "    \"\"\" Compute log(\\sum_i exp(pi_k)) for input array.\n",
    "    Input:\n",
    "    -pik:input arrary    \n",
    "    \"\"\"\n",
    "    return np.max(pik) + np.log(np.sum(np.exp(pik - np.max(pik))))"
   ]
  },
  {
   "cell_type": "code",
   "execution_count": 9,
   "metadata": {},
   "outputs": [],
   "source": [
    "def loglikelihood(X, weights, means, covs):\n",
    "    \"\"\" Compute the loglikelihood of the data for a Gaussian mixture model with the given parameters. \n",
    "    Input:\n",
    "    -data: a array of datapoints\n",
    "    -weights: a array of weights for k clusters\n",
    "    -means: a array of means for k clusters\n",
    "    -covs:a array of covariances for k clusters\n",
    "    \"\"\"\n",
    "    num_clusters = len(means)\n",
    "    num_dim = len(X[0])\n",
    "    \n",
    "    ll = 0\n",
    "    for d in X:\n",
    "        \n",
    "        Z = np.zeros(num_clusters) #to store new pik\n",
    "        for k in range(num_clusters):\n",
    "            \n",
    "            # Compute (x-mu)^T * Sigma^{-1} * (x-mu)\n",
    "            delta = np.array(d) - means[k]\n",
    "            exponent_term = np.dot(delta.T, np.dot(np.linalg.inv(covs[k]), delta))\n",
    "            \n",
    "            # Compute loglikelihood contribution for this data point and this cluster\n",
    "            Z[k] += np.log(weights[k])\n",
    "            Z[k] -= 1/2. * (num_dim * np.log(2*np.pi) + np.log(np.linalg.det(covs[k])) + exponent_term)\n",
    "            \n",
    "        # Increment loglikelihood contribution of this data point across all clusters\n",
    "        ll += log_sum_exp(Z)\n",
    "        \n",
    "    return ll\n"
   ]
  },
  {
   "cell_type": "code",
   "execution_count": 1,
   "metadata": {},
   "outputs": [
    {
     "ename": "NameError",
     "evalue": "name 'np' is not defined",
     "output_type": "error",
     "traceback": [
      "\u001b[1;31m---------------------------------------------------------------------------\u001b[0m",
      "\u001b[1;31mNameError\u001b[0m                                 Traceback (most recent call last)",
      "\u001b[1;32m<ipython-input-1-fd682b5b1ff2>\u001b[0m in \u001b[0;36m<module>\u001b[1;34m\u001b[0m\n\u001b[1;32m----> 1\u001b[1;33m \u001b[0mnp\u001b[0m\u001b[1;33m.\u001b[0m\u001b[0mrandom\u001b[0m\u001b[1;33m.\u001b[0m\u001b[0mseed\u001b[0m\u001b[1;33m(\u001b[0m\u001b[1;36m4\u001b[0m\u001b[1;33m)\u001b[0m\u001b[1;33m\u001b[0m\u001b[1;33m\u001b[0m\u001b[0m\n\u001b[0m\u001b[0;32m      2\u001b[0m \u001b[1;33m\u001b[0m\u001b[0m\n\u001b[0;32m      3\u001b[0m \u001b[1;31m# Initialization of parameters\u001b[0m\u001b[1;33m\u001b[0m\u001b[1;33m\u001b[0m\u001b[1;33m\u001b[0m\u001b[0m\n\u001b[0;32m      4\u001b[0m \u001b[0mchosen\u001b[0m \u001b[1;33m=\u001b[0m \u001b[0mnp\u001b[0m\u001b[1;33m.\u001b[0m\u001b[0mrandom\u001b[0m\u001b[1;33m.\u001b[0m\u001b[0mchoice\u001b[0m\u001b[1;33m(\u001b[0m\u001b[0mlen\u001b[0m\u001b[1;33m(\u001b[0m\u001b[0mX\u001b[0m\u001b[1;33m)\u001b[0m\u001b[1;33m,\u001b[0m \u001b[1;36m3\u001b[0m\u001b[1;33m,\u001b[0m \u001b[0mreplace\u001b[0m\u001b[1;33m=\u001b[0m\u001b[1;32mFalse\u001b[0m\u001b[1;33m)\u001b[0m\u001b[1;33m\u001b[0m\u001b[1;33m\u001b[0m\u001b[0m\n\u001b[0;32m      5\u001b[0m \u001b[0minitial_means\u001b[0m \u001b[1;33m=\u001b[0m \u001b[1;33m[\u001b[0m\u001b[0mX\u001b[0m\u001b[1;33m[\u001b[0m\u001b[0mx\u001b[0m\u001b[1;33m]\u001b[0m \u001b[1;32mfor\u001b[0m \u001b[0mx\u001b[0m \u001b[1;32min\u001b[0m \u001b[0mchosen\u001b[0m\u001b[1;33m]\u001b[0m\u001b[1;33m\u001b[0m\u001b[1;33m\u001b[0m\u001b[0m\n",
      "\u001b[1;31mNameError\u001b[0m: name 'np' is not defined"
     ]
    }
   ],
   "source": [
    "np.random.seed(4)\n",
    "\n",
    "# Initialization of parameters\n",
    "chosen = np.random.choice(len(X), 3, replace=False)\n",
    "initial_means = [X[x] for x in chosen]\n",
    "initial_covs = [np.cov(X, rowvar=0)] * 3\n",
    "initial_weights = [1/3.] * 3\n",
    "\n",
    "# Run EM \n",
    "results = EM(X, initial_means, initial_covs, initial_weights)\n",
    "\n",
    "#sample outputs:\n",
    "# weights: [0.3007102300609823, 0.17993710074247007, 0.5193526691965472]\n",
    "# means: [array([0.02138285, 4.947729  ]),array([4.94239235, 0.31365311]),array([1.08181125, 0.73903508])]\n",
    "# covs: [array([[0.2932614 , 0.05048455],[0.05048455, 0.35281537]]),array([[ 0.3556437 , -0.01494875],\n",
    "#       [-0.01494875,  0.66695025]]),array([[0.67114992, 0.33058965],[0.33058965, 0.90429724]])]"
   ]
  },
  {
   "cell_type": "markdown",
   "metadata": {},
   "source": [
    "## 3. Visualize the results of EM implementations\n",
    "We provide a plot_contours function to visualize the gaussian componets over the data. Try to plot Gaussian componets after differenent iterations(n_iter = 5,10), and also after converged iteration.\n"
   ]
  },
  {
   "cell_type": "code",
   "execution_count": null,
   "metadata": {},
   "outputs": [],
   "source": [
    "def bivariate_normal(X, Y, sigmax=1.0, sigmay=1.0,\n",
    "                 mux=0.0, muy=0.0, sigmaxy=0.0):\n",
    "    \"\"\"\n",
    "    Bivariate Gaussian distribution for equal shape *X*, *Y*.\n",
    "    \n",
    "    \"\"\"\n",
    "    Xmu = X-mux\n",
    "    Ymu = Y-muy\n",
    "\n",
    "    rho = sigmaxy/(sigmax*sigmay)\n",
    "    z = Xmu**2/sigmax**2 + Ymu**2/sigmay**2 - 2*rho*Xmu*Ymu/(sigmax*sigmay)\n",
    "    denom = 2*np.pi*sigmax*sigmay*np.sqrt(1-rho**2)\n",
    "    return np.exp(-z/(2*(1-rho**2))) / denom"
   ]
  },
  {
   "cell_type": "code",
   "execution_count": null,
   "metadata": {},
   "outputs": [],
   "source": [
    "def plot_contours(data, means, covs, title):\n",
    "    plt.figure()\n",
    "    plt.plot([x[0] for x in data], [y[1] for y in data],'ko') # data\n",
    "\n",
    "    delta = 0.025\n",
    "    k = len(means)\n",
    "    x = np.arange(-2.0, 7.0, delta)\n",
    "    y = np.arange(-2.0, 7.0, delta)\n",
    "    X, Y = np.meshgrid(x, y)\n",
    "    col = ['green', 'red', 'indigo']\n",
    "    for i in range(k):\n",
    "        mean = means[i]\n",
    "        cov = covs[i]\n",
    "        sigmax = np.sqrt(cov[0][0])\n",
    "        sigmay = np.sqrt(cov[1][1])\n",
    "        sigmaxy = cov[0][1]/(sigmax*sigmay)\n",
    "        bN = bivariate_normal(X, Y, sigmax, sigmay, mean[0], mean[1], sigmaxy)\n",
    "        plt.contour(X, Y, bN, colors = col[i])\n",
    "        plt.title(title)\n",
    "    plt.rcParams.update({'font.size':16})\n",
    "    plt.tight_layout()"
   ]
  },
  {
   "cell_type": "code",
   "execution_count": null,
   "metadata": {},
   "outputs": [],
   "source": [
    "# *****START OF YOUR CODE (DO NOT DELETE/MODIFY THIS LINE)*****\n",
    "\n",
    "\n",
    "# running EM\n",
    "\n",
    "# plotting\n",
    "\n",
    "# For graduate students only -- Plot log-likelihood as a function of iteration number\n",
    "\n",
    "\n",
    "# *****END OF YOUR CODE (DO NOT DELETE/MODIFY THIS LINE)*****"
   ]
  }
 ],
 "metadata": {
  "kernelspec": {
   "display_name": "Python 3.7.6 ('base')",
   "language": "python",
   "name": "python3"
  },
  "language_info": {
   "codemirror_mode": {
    "name": "ipython",
    "version": 3
   },
   "file_extension": ".py",
   "mimetype": "text/x-python",
   "name": "python",
   "nbconvert_exporter": "python",
   "pygments_lexer": "ipython3",
   "version": "3.7.6"
  },
  "vscode": {
   "interpreter": {
    "hash": "b0dcbf37802d0b81ba6b67e8653503299cec0d48c516ca608fc56694ffda75cc"
   }
  }
 },
 "nbformat": 4,
 "nbformat_minor": 5
}
