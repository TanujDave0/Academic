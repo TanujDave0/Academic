{
 "cells": [
  {
   "cell_type": "markdown",
   "metadata": {
    "id": "OMM2e3OP6Kn4"
   },
   "source": [
    "# **Logistic Regression vs Linear Regression via Gradient Descent**"
   ]
  },
  {
   "cell_type": "code",
   "execution_count": 1,
   "metadata": {
    "id": "o2jeOJg80h6N"
   },
   "outputs": [],
   "source": [
    "# Let us first import some modules for this problem\n",
    "import numpy as np\n",
    "import matplotlib.pyplot as plt\n",
    "import math\n",
    "\n",
    "%matplotlib inline\n",
    "\n",
    "np.random.seed(1)"
   ]
  },
  {
   "cell_type": "code",
   "execution_count": 2,
   "metadata": {
    "id": "QRJDVn2lF7Pv"
   },
   "outputs": [
    {
     "name": "stdout",
     "output_type": "stream",
     "text": [
      "[1.00000000e+00 1.24794646e-47 5.00000000e-01 5.79324252e-01]\n",
      "[0.67212099 0.5481529  0.5871972  0.62176131]\n"
     ]
    }
   ],
   "source": [
    "def sigmoid(z):\n",
    "    \"\"\"\n",
    "  sigmoid function that maps inputs into the interval [0,1]\n",
    "  Your implementation must be able to handle the case when z is a vector (see unit test)\n",
    "  Inputs:\n",
    "  - z: a scalar (real number) or a vector\n",
    "  Outputs:\n",
    "  - trans_z: the same shape as z, with sigmoid applied to each element of z\n",
    "  \"\"\"\n",
    "  # *****START OF YOUR CODE (DO NOT DELETE/MODIFY THIS LINE)*****\n",
    "    \n",
    "    if (isinstance(z, (list, np.ndarray))):\n",
    "        size = z.size\n",
    "        ans = np.zeros(size)\n",
    "        \n",
    "        for i in range(size):\n",
    "            ans[i] = 1/(1 + (math.exp(-z[i])))\n",
    "        \n",
    "        return ans\n",
    "    \n",
    "    trans_z = 1/(1 + (math.exp(-z)))\n",
    "            \n",
    "        \n",
    "  # *****END OF YOUR CODE (DO NOT DELETE/MODIFY THIS LINE)*****\n",
    "    return trans_z\n",
    "\n",
    "def logistic_regression(X, w):\n",
    "    \"\"\"\n",
    "  logistic regression model that outputs probabilities of positive examples\n",
    "  Inputs:\n",
    "  - X: an array of shape (num_sample, num_features)\n",
    "  - w: an array of shape (num_features,)\n",
    "  Outputs:\n",
    "  - logits: a vector of shape (num_samples,)\n",
    "  \"\"\"\n",
    "  # *****START OF YOUR CODE (DO NOT DELETE/MODIFY THIS LINE)*****\n",
    "    size = X.size\n",
    "    size2 = X[0].size\n",
    "    \n",
    "    logits = sigmoid(np.matmul(X,w))\n",
    "\n",
    "  # *****END OF YOUR CODE (DO NOT DELETE/MODIFY THIS LINE)*****\n",
    "    return logits\n",
    "\n",
    "# unit test\n",
    "# sample inputs:\n",
    "z = np.array([215, -108, 0, 0.32])\n",
    "X = np.array([[4.17022005e-01, 7.20324493e-01, 1.14374817e-04],\n",
    "              [3.02332573e-01, 1.46755891e-01, 9.23385948e-02],\n",
    "              [1.86260211e-01, 3.45560727e-01, 3.96767474e-01],\n",
    "              [5.38816734e-01, 4.19194514e-01, 6.85219500e-01]])\n",
    "w = np.array([0.20445225, 0.87811744, 0.02738759])\n",
    "\n",
    "# sample outputs:\n",
    "out1 = sigmoid(z)\n",
    "out2 = logistic_regression(X, w)\n",
    "print(out1)\n",
    "print(out2)\n",
    "# out1 : [1.00000000e+00 1.24794646e-47 5.00000000e-01 5.79324252e-01]\n",
    "# out2 : [0.67212099 0.5481529  0.5871972  0.62176131]\n"
   ]
  },
  {
   "cell_type": "code",
   "execution_count": 4,
   "metadata": {
    "id": "cyj_fVzBuo03"
   },
   "outputs": [
    {
     "name": "stdout",
     "output_type": "stream",
     "text": [
      "0.626238298577102\n",
      "[-0.00483685 -0.09821878 -0.0080873 ]\n"
     ]
    }
   ],
   "source": [
    "def logistic_loss(X, w, y):\n",
    "    \"\"\"\n",
    "  a function that compute the logistic loss value for the given dataset (X, y) and parameter w;\n",
    "  It also returns the gradient of loss function w.r.t w\n",
    "  Here (X, y) can be a set of examples, not just one example.\n",
    "  Remember -- we always take the average (divide by size of dataset) while calculating loss, gradient etc. \n",
    "  Inputs:\n",
    "  - X: an array of shape (num_sample, num_features)\n",
    "  - w: an array of shape (num_features,)\n",
    "  - y: an array of shape (num_sample,), it is the ground truth label of data X\n",
    "  Output:\n",
    "  - loss: a scalar which is the value of loss function for the given data and parameters\n",
    "  - grad: an array of shape (num_featues,), the gradient of loss \n",
    "  \"\"\"\n",
    "  # *****START OF YOUR CODE (DO NOT DELETE/MODIFY THIS LINE)*****\n",
    "    z = logistic_regression(X, w)\n",
    "    m = y.size\n",
    "    loss = 0\n",
    "    grad = (np.matmul(np.transpose(X),z-y))/m\n",
    "    \n",
    "    for i in range(m):\n",
    "        if (y[i]):\n",
    "            loss -= math.log(z[i])\n",
    "        else:\n",
    "            loss -= math.log(1-z[i])\n",
    "            \n",
    "    z = np.matmul(X,w)\n",
    "    loss = loss/m\n",
    "  # *****END OF YOUR CODE (DO NOT DELETE/MODIFY THIS LINE)*****\n",
    "    return loss, grad\n",
    "#unit test\n",
    "# inputs:\n",
    "X = np.array([[0.67046751, 0.41730480, 0.55868983],\n",
    "              [0.14038694, 0.19810149, 0.80074457],\n",
    "              [0.96826158, 0.31342418, 0.69232262],\n",
    "              [0.87638915, 0.89460666, 0.08504421]])\n",
    "w = np.array([0.03905478, 0.16983042, 0.8781425 ])\n",
    "Y = np.array([1, 1, 0, 1])\n",
    "\n",
    "# sample outputs:\n",
    "loss, grad = logistic_loss(X, w, Y)\n",
    "print(loss)\n",
    "print(grad)\n",
    "# loss: 0.626238298577102\n",
    "# grad: [-0.00483685, -0.09821878, -0.0080873 ]\n"
   ]
  },
  {
   "cell_type": "code",
   "execution_count": 94,
   "metadata": {},
   "outputs": [
    {
     "name": "stdout",
     "output_type": "stream",
     "text": [
      "0.31784857214588724\n",
      "[-0.14180542 -0.33264742 -0.007825  ]\n"
     ]
    }
   ],
   "source": [
    "def square_loss(X, w, y):\n",
    "    \"\"\"\n",
    "  a function that compute the linear regression loss value for the given dataset (X, y) and parameter w;\n",
    "  It also returns the gradient of loss function w.r.t w\n",
    "  Here (X, y) can be a set of examples, not just one example.\n",
    "  Remember -- we always take the average (divide by size of dataset) while calculating loss, gradient etc. \n",
    "  Inputs:\n",
    "  - X: an array of shape (num_sample, num_features)\n",
    "  - w: an array of shape (num_features,)\n",
    "  - y: an array of shape (num_sample,), it is the ground truth label of data X\n",
    "  Output:\n",
    "  - loss: a scalar which is the value of loss function for the given data and parameters\n",
    "  - grad: an array of shape (num_featues,), the gradient of loss \n",
    "  \"\"\"\n",
    "  # *****START OF YOUR CODE (DO NOT DELETE/MODIFY THIS LINE)*****\n",
    "    m = y.size\n",
    "    loss = (np.sum(np.power((np.matmul(X, w) - y),2)))/m\n",
    "    \n",
    "    grad = (2*(np.matmul(np.matmul(np.transpose(X),X),w)) - 2*(np.matmul(np.transpose(X),y)))/m\n",
    "        \n",
    "  # *****END OF YOUR CODE (DO NOT DELETE/MODIFY THIS LINE)*****\n",
    "    return loss, grad\n",
    "#unit test\n",
    "# inputs:\n",
    "X = np.array([[0.67046751, 0.41730480, 0.55868983],\n",
    "              [0.14038694, 0.19810149, 0.80074457],\n",
    "              [0.96826158, 0.31342418, 0.69232262],\n",
    "              [0.87638915, 0.89460666, 0.08504421]])\n",
    "w = np.array([0.03905478, 0.16983042, 0.8781425 ])\n",
    "Y = np.array([1, 1, 0, 1])\n",
    "\n",
    "# sample outputs:\n",
    "loss, grad = square_loss(X, w, Y)\n",
    "print(loss)\n",
    "print(grad)\n",
    "# loss: 0.317848572145887241\n",
    "# grad: [-0.14180542, -0.33264742, -0.007825 ]\n"
   ]
  },
  {
   "cell_type": "markdown",
   "metadata": {
    "id": "LgDSd4ABKUM3"
   },
   "source": [
    "## 1.2 Recognizing hand-written digits with logistic regression \n",
    "\n",
    "We have gone through all the theoretical concepts of the logistic regression model. It's time to put hands on a real problem in which we aim to recognize images of hand-written digits. The dataset we will use is the Optical Recognition of Handwritten Digits dataset, and the description of the dataset can be found [here](https://archive.ics.uci.edu/ml/datasets/Optical+Recognition+of+Handwritten+Digits). \n",
    "\n",
    "### 1.2.1 Data preprocessing (not for grading){-}\n",
    "The original dataset contains 10 classes (digits 0 to 9). Since for now we are concerned about logistic regression for binary classification, we will only use a subset of the dataset that contains 360 examples from 2 classes (digits 0 and 1).  Each example is a $8\\times 8$ matrix (image) where each element is an integer in the range $[0,16]$. Let's load the dataset by using the off-the-shell method from `sklearn` and print out some images to get a good understanding of the dataset."
   ]
  },
  {
   "cell_type": "code",
   "execution_count": 67,
   "metadata": {
    "id": "4AX98obkFPLh"
   },
   "outputs": [
    {
     "name": "stdout",
     "output_type": "stream",
     "text": [
      "There are 360 examples in total.\n",
      "All examples are images of hand-written digit 0 or hand-written digits 1\n",
      "Each example is an array of shape (64,)\n",
      "An example of data point:\n",
      "[ 0.  0.  5. 13.  9.  1.  0.  0.  0.  0. 13. 15. 10. 15.  5.  0.  0.  3.\n",
      " 15.  2.  0. 11.  8.  0.  0.  4. 12.  0.  0.  8.  8.  0.  0.  5.  8.  0.\n",
      "  0.  9.  8.  0.  0.  4. 11.  0.  1. 12.  7.  0.  0.  2. 14.  5. 10. 12.\n",
      "  0.  0.  0.  0.  6. 13. 10.  0.  0.  0.]\n",
      "The shape of image is (8, 8)\n",
      "An example of 2D array data:\n",
      " [[ 0.  0.  5. 13.  9.  1.  0.  0.]\n",
      " [ 0.  0. 13. 15. 10. 15.  5.  0.]\n",
      " [ 0.  3. 15.  2.  0. 11.  8.  0.]\n",
      " [ 0.  4. 12.  0.  0.  8.  8.  0.]\n",
      " [ 0.  5.  8.  0.  0.  9.  8.  0.]\n",
      " [ 0.  4. 11.  0.  1. 12.  7.  0.]\n",
      " [ 0.  2. 14.  5. 10. 12.  0.  0.]\n",
      " [ 0.  0.  6. 13. 10.  0.  0.  0.]]\n"
     ]
    }
   ],
   "source": [
    "# set up the code for this experiment\n",
    "import numpy as np\n",
    "import matplotlib.pyplot as plt\n",
    "from sklearn.datasets import load_digits\n",
    "\n",
    "%matplotlib inline\n",
    "np.random.seed(1)\n",
    "\n",
    "# load the digits dataset\n",
    "digits = load_digits(n_class=2)\n",
    "# digits is a dictionary-like object that hold all the features and labels,\n",
    "# along with some metadata about the dataset. \n",
    "# The features are stored in the '.data' member, a (#sample, #feature) array. \n",
    "# The labels are stored in the '.target' member.\n",
    "\n",
    "print(f'There are {len(digits.target)} examples in total.')\n",
    "print(f'All examples are images of hand-written digit {list(set(digits.target))[0]} or hand-written digits {list(set(digits.target))[1]}')\n",
    "print(f'Each example is an array of shape {digits.data[0].shape}')\n",
    "print(f'An example of data point:\\n{digits.data[0]}')\n",
    "\n",
    "# You may wondering why the shape of data is (64,) instead of (8, 8). Actually,\n",
    "# You can access to matrix shape of data through the '.images' member.\n",
    "print(f'The shape of image is {digits.images[0].shape}') \n",
    "print(f'An example of 2D array data:\\n {digits.images[0]}')"
   ]
  },
  {
   "cell_type": "code",
   "execution_count": 33,
   "metadata": {
    "id": "kazXeCBCXLee"
   },
   "outputs": [
    {
     "data": {
      "image/png": "[encoded data removed]",
      "text/plain": [
       "<Figure size 432x288 with 6 Axes>"
      ]
     },
     "metadata": {
      "needs_background": "light"
     },
     "output_type": "display_data"
    }
   ],
   "source": [
    "# The data we are interested in is made up of 8x8 images of digits. \n",
    "# Let's have a look at the first 6 images that are drawn from the dataset. \n",
    "# For these images, \n",
    "#   we know the digit they represented is given in the 'target' of the dataset.\n",
    "_, axes = plt.subplots(1, 6)\n",
    "img_label = list(zip(digits.images, digits.target))\n",
    "for ax, (img, target) in zip(axes, img_label[:6]):\n",
    "  ax.set_axis_off()\n",
    "  ax.imshow(img, cmap=plt.cm.gray_r, interpolation='nearest')\n",
    "  ax.set_title('Label: %i' % target)\n",
    "plt.show()"
   ]
  },
  {
   "cell_type": "markdown",
   "metadata": {
    "id": "Oveqe9GK526A"
   },
   "source": [
    "### 1.2.2 Padding features (not for grading) {-}\n",
    "As we did in Homework 2, to simplify the notation, we pad the input $x$ by inserting 1 to the **beginning** so that we can absorb the bias term into the parameter $w$.\n",
    "\n",
    "The following code morphs the variable `digits.data` by concatenating 1 and features."
   ]
  },
  {
   "cell_type": "code",
   "execution_count": 34,
   "metadata": {
    "id": "_h4w6JIZ8Cpk"
   },
   "outputs": [
    {
     "name": "stdout",
     "output_type": "stream",
     "text": [
      "(360, 65)\n"
     ]
    }
   ],
   "source": [
    "ones = np.ones(digits.data.shape[0]).reshape(-1, 1)\n",
    "digits.data = np.concatenate((ones, digits.data), axis=1)\n",
    "print(digits.data.shape)"
   ]
  },
  {
   "cell_type": "markdown",
   "metadata": {
    "id": "fSwnaHBAoQbt"
   },
   "source": [
    "### 1.2.3 Create training and test sets (not for grading) {-}\n",
    "As we have practiced in our previous homework, we will use the `train_test_split()` method to partition the dataset into training and test sets. In this experiment, we use 80% data for training and the remaining 20% data for testing. To ensure your results are replicable, we will set the `random_state` argument of `train_test_split()` to **1**."
   ]
  },
  {
   "cell_type": "code",
   "execution_count": 35,
   "metadata": {
    "id": "Y89isTi9qLcV"
   },
   "outputs": [
    {
     "name": "stdout",
     "output_type": "stream",
     "text": [
      "The training set contains 288 examples.\n",
      "The testing set contains 72 examples.\n"
     ]
    }
   ],
   "source": [
    "from sklearn.model_selection import train_test_split\n",
    "\n",
    "X_train, X_test, y_train, y_test = train_test_split(digits.data, digits.target, train_size=0.8, random_state=1)\n",
    "print(f'The training set contains {X_train.shape[0]} examples.')\n",
    "print(f'The testing set contains {X_test.shape[0]} examples.')"
   ]
  },
  {
   "cell_type": "markdown",
   "metadata": {
    "id": "n39CSTpbvpHR"
   },
   "source": [
    "### 1.2.3 Feature Normalization (not for grading) {-}\n",
    "Since, we have implemented the function `featureNormalization()` to normalize the features that have different scale, now, we will learn to use the built-in function `StandardScaler()` in `scikit-learn`. As we did in `featureNormalization()`, `StandardScaler()` returns standardized features by removing the mean and scaling to unit variance.\n",
    "Please read through the [API documentation](https://scikit-learn.org/stable/modules/generated/sklearn.preprocessing.StandardScaler.html) for detailed instructions."
   ]
  },
  {
   "cell_type": "code",
   "execution_count": 37,
   "metadata": {
    "id": "nJV3UYO1z4Zk"
   },
   "outputs": [],
   "source": [
    "from sklearn.preprocessing import StandardScaler\n",
    "\n",
    "sc = StandardScaler()\n",
    "sc.fit(X_train)\n",
    "X_train = sc.transform(X_train)\n",
    "X_test = sc.transform(X_test)"
   ]
  },
  {
   "cell_type": "markdown",
   "metadata": {
    "id": "u69oMti4KhzJ"
   },
   "source": [
    "### Training the model with gradient descent \n",
    "Now after all the pre-processing, we can train a logisitic regression model with the training data.  It is quite straightforward to make predictions on test data by using the learned model. To simplify the task, when the probability of being positive is greater than 0.5, we classify the sample to 1. Otherwise, we classify it to 0.\n",
    "\n",
    "In this part, we will train the model with gradient descent. After that, predict the label for test examples and compute the test accuracy. You may want to follow the procedures below to obtain the results:\n",
    "+ Randomly initialize the parameter $w$ by `np.random.rand`.\n",
    "+ Use gradient descent to update $w$ (number of iteration `num_iters` and learning rate `lr` are provided).\n",
    "+ Plot the curve of the $\\ell(w)$ value as a function of how many update steps have been taken (you need a variable to store the history of $\\ell(w)$ values).\n",
    "+ Compute and report the test accuracy on test set."
   ]
  },
  {
   "cell_type": "code",
   "execution_count": 132,
   "metadata": {
    "id": "yYGPnvLAEvkO"
   },
   "outputs": [
    {
     "data": {
      "text/plain": [
       "[<matplotlib.lines.Line2D at 0x2707b9796c8>]"
      ]
     },
     "execution_count": 132,
     "metadata": {},
     "output_type": "execute_result"
    },
    {
     "data": {
      "image/png": "[encoded data removed]",
      "text/plain": [
       "<Figure size 432x288 with 1 Axes>"
      ]
     },
     "metadata": {
      "needs_background": "light"
     },
     "output_type": "display_data"
    }
   ],
   "source": [
    "num_iters = 200\n",
    "lr = 0.1\n",
    "\n",
    "# *****START OF YOUR CODE (DO NOT DELETE/MODIFY THIS LINE)*****\n",
    "\n",
    "w1 = np.random.rand(65)\n",
    "w2 = np.random.rand(65)\n",
    "n = X_train.size\n",
    "x = []\n",
    "y1 = []\n",
    "y2 = []\n",
    "\n",
    "# training\n",
    "for i in range(num_iters):\n",
    "    loss1, grad1 = square_loss(X_train, w1, y_train)\n",
    "    loss2, grad2 = logistic_loss(X_train, w2, y_train)\n",
    "        \n",
    "    w1 = w1 - (lr*grad1)\n",
    "    w2 = w2 - (lr*grad2)\n",
    "    \n",
    "    x.append(i)\n",
    "    y1.append(loss1)\n",
    "    y2.append(loss2)\n",
    "\n",
    "# plotting\n",
    "plt.plot(x, y2)\n",
    "\n",
    "# testing\n",
    "\n",
    "\n",
    "# *****END OF YOUR CODE (DO NOT DELETE/MODIFY THIS LINE)*****"
   ]
  },
  {
   "cell_type": "code",
   "execution_count": null,
   "metadata": {},
   "outputs": [],
   "source": [
    "Best accuracy\n",
    "lr: T = 800, lr = 0.6\n",
    "logr: T = 1000, lr = 0.8\n",
    "    "
   ]
  },
  {
   "cell_type": "markdown",
   "metadata": {},
   "source": [
    "# Q1 , Q2 in the BB zip "
   ]
  }
 ],
 "metadata": {
  "colab": {
   "collapsed_sections": [],
   "name": "Lab_3.ipynb",
   "provenance": []
  },
  "kernelspec": {
   "display_name": "Python 3",
   "language": "python",
   "name": "python3"
  },
  "language_info": {
   "codemirror_mode": {
    "name": "ipython",
    "version": 3
   },
   "file_extension": ".py",
   "mimetype": "text/x-python",
   "name": "python",
   "nbconvert_exporter": "python",
   "pygments_lexer": "ipython3",
   "version": "3.7.6"
  }
 },
 "nbformat": 4,
 "nbformat_minor": 1
}
